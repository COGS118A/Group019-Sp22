{
 "cells": [
  {
   "cell_type": "markdown",
   "metadata": {},
   "source": [
    "## Exploratory data analysis"
   ]
  },
  {
   "cell_type": "code",
   "execution_count": 1,
   "metadata": {},
   "outputs": [],
   "source": [
    "import pandas as pd\n",
    "import numpy as np\n",
    "from sklearn.model_selection import train_test_split\n",
    "from sklearn.ensemble import RandomForestClassifier\n",
    "from sklearn.tree import DecisionTreeClassifier\n",
    "from sklearn.linear_model import LogisticRegression\n",
    "from sklearn.svm import SVC\n",
    "from sklearn.neighbors import KNeighborsClassifier\n",
    "import matplotlib.pyplot as plt\n",
    "import seaborn as sns"
   ]
  },
  {
   "cell_type": "code",
   "execution_count": 2,
   "metadata": {},
   "outputs": [
    {
     "data": {
      "text/html": [
       "<div>\n",
       "<style scoped>\n",
       "    .dataframe tbody tr th:only-of-type {\n",
       "        vertical-align: middle;\n",
       "    }\n",
       "\n",
       "    .dataframe tbody tr th {\n",
       "        vertical-align: top;\n",
       "    }\n",
       "\n",
       "    .dataframe thead th {\n",
       "        text-align: right;\n",
       "    }\n",
       "</style>\n",
       "<table border=\"1\" class=\"dataframe\">\n",
       "  <thead>\n",
       "    <tr style=\"text-align: right;\">\n",
       "      <th></th>\n",
       "      <th>date</th>\n",
       "      <th>Open</th>\n",
       "      <th>High</th>\n",
       "      <th>Low</th>\n",
       "      <th>Close</th>\n",
       "      <th>Volume</th>\n",
       "      <th>up/down</th>\n",
       "      <th>Sentiment</th>\n",
       "      <th>true_value</th>\n",
       "    </tr>\n",
       "  </thead>\n",
       "  <tbody>\n",
       "    <tr>\n",
       "      <th>0</th>\n",
       "      <td>1980-01-02</td>\n",
       "      <td>-1.157349</td>\n",
       "      <td>-1.064447</td>\n",
       "      <td>-1.065108</td>\n",
       "      <td>-1.066003</td>\n",
       "      <td>-0.960949</td>\n",
       "      <td>1</td>\n",
       "      <td>-0.632982</td>\n",
       "      <td>-1</td>\n",
       "    </tr>\n",
       "    <tr>\n",
       "      <th>1</th>\n",
       "      <td>1980-01-03</td>\n",
       "      <td>-1.157349</td>\n",
       "      <td>-1.066807</td>\n",
       "      <td>-1.067169</td>\n",
       "      <td>-1.066548</td>\n",
       "      <td>-0.955609</td>\n",
       "      <td>1</td>\n",
       "      <td>-0.547975</td>\n",
       "      <td>1</td>\n",
       "    </tr>\n",
       "    <tr>\n",
       "      <th>3</th>\n",
       "      <td>1980-01-07</td>\n",
       "      <td>-1.157349</td>\n",
       "      <td>-1.065080</td>\n",
       "      <td>-1.064590</td>\n",
       "      <td>-1.064943</td>\n",
       "      <td>-0.958844</td>\n",
       "      <td>1</td>\n",
       "      <td>-0.766564</td>\n",
       "      <td>1</td>\n",
       "    </tr>\n",
       "    <tr>\n",
       "      <th>4</th>\n",
       "      <td>1980-01-08</td>\n",
       "      <td>-1.157349</td>\n",
       "      <td>-1.063584</td>\n",
       "      <td>-1.064093</td>\n",
       "      <td>-1.062783</td>\n",
       "      <td>-0.954035</td>\n",
       "      <td>1</td>\n",
       "      <td>-1.139702</td>\n",
       "      <td>1</td>\n",
       "    </tr>\n",
       "    <tr>\n",
       "      <th>5</th>\n",
       "      <td>1980-01-09</td>\n",
       "      <td>-1.157349</td>\n",
       "      <td>-1.061777</td>\n",
       "      <td>-1.061940</td>\n",
       "      <td>-1.062682</td>\n",
       "      <td>-0.947613</td>\n",
       "      <td>1</td>\n",
       "      <td>-1.267481</td>\n",
       "      <td>1</td>\n",
       "    </tr>\n",
       "  </tbody>\n",
       "</table>\n",
       "</div>"
      ],
      "text/plain": [
       "         date      Open      High       Low     Close    Volume  up/down  \\\n",
       "0  1980-01-02 -1.157349 -1.064447 -1.065108 -1.066003 -0.960949        1   \n",
       "1  1980-01-03 -1.157349 -1.066807 -1.067169 -1.066548 -0.955609        1   \n",
       "3  1980-01-07 -1.157349 -1.065080 -1.064590 -1.064943 -0.958844        1   \n",
       "4  1980-01-08 -1.157349 -1.063584 -1.064093 -1.062783 -0.954035        1   \n",
       "5  1980-01-09 -1.157349 -1.061777 -1.061940 -1.062682 -0.947613        1   \n",
       "\n",
       "   Sentiment  true_value  \n",
       "0  -0.632982          -1  \n",
       "1  -0.547975           1  \n",
       "3  -0.766564           1  \n",
       "4  -1.139702           1  \n",
       "5  -1.267481           1  "
      ]
     },
     "execution_count": 2,
     "metadata": {},
     "output_type": "execute_result"
    }
   ],
   "source": [
    "df = pd.read_csv('cleaned_data.csv', index_col=0)\n",
    "df.head()"
   ]
  },
  {
   "cell_type": "code",
   "execution_count": 3,
   "metadata": {},
   "outputs": [],
   "source": [
    "y = df[\"true_value\"]\n",
    "X = df.iloc[:, 1:-1]\n",
    "#drop up/down column\n",
    "X = X.drop(['up/down'], axis=1)"
   ]
  },
  {
   "cell_type": "code",
   "execution_count": null,
   "metadata": {},
   "outputs": [],
   "source": []
  },
  {
   "cell_type": "code",
   "execution_count": 4,
   "metadata": {},
   "outputs": [],
   "source": [
    "from sklearn.model_selection import validation_curve\n",
    "from sklearn.metrics import r2_score\n",
    "from sklearn.pipeline import make_pipeline\n",
    "from sklearn.preprocessing import PolynomialFeatures\n",
    "from sklearn.linear_model import LinearRegression\n",
    "\n",
    "def PolynomialRegression(degree=7, **kwargs):\n",
    "    return make_pipeline(PolynomialFeatures(degree),\n",
    "                         LinearRegression(**kwargs))"
   ]
  },
  {
   "cell_type": "code",
   "execution_count": null,
   "metadata": {},
   "outputs": [
    {
     "name": "stderr",
     "output_type": "stream",
     "text": [
      "/usr/local/anaconda3/lib/python3.8/site-packages/sklearn/model_selection/_validation.py:548: FitFailedWarning: Estimator fit failed. The score on this train-test partition for these parameters will be set to nan. Details: \n",
      "Traceback (most recent call last):\n",
      "  File \"/usr/local/anaconda3/lib/python3.8/site-packages/sklearn/model_selection/_validation.py\", line 531, in _fit_and_score\n",
      "    estimator.fit(X_train, y_train, **fit_params)\n",
      "  File \"/usr/local/anaconda3/lib/python3.8/site-packages/sklearn/pipeline.py\", line 330, in fit\n",
      "    Xt = self._fit(X, y, **fit_params_steps)\n",
      "  File \"/usr/local/anaconda3/lib/python3.8/site-packages/sklearn/pipeline.py\", line 292, in _fit\n",
      "    X, fitted_transformer = fit_transform_one_cached(\n",
      "  File \"/usr/local/anaconda3/lib/python3.8/site-packages/joblib/memory.py\", line 352, in __call__\n",
      "    return self.func(*args, **kwargs)\n",
      "  File \"/usr/local/anaconda3/lib/python3.8/site-packages/sklearn/pipeline.py\", line 740, in _fit_transform_one\n",
      "    res = transformer.fit_transform(X, y, **fit_params)\n",
      "  File \"/usr/local/anaconda3/lib/python3.8/site-packages/sklearn/base.py\", line 693, in fit_transform\n",
      "    return self.fit(X, y, **fit_params).transform(X)\n",
      "  File \"/usr/local/anaconda3/lib/python3.8/site-packages/sklearn/preprocessing/_data.py\", line 1616, in transform\n",
      "    XP[:, current_col:current_col + n_features] = X\n",
      "ValueError: could not broadcast input array from shape (8544,6) into shape (8544,0)\n",
      "\n",
      "  warnings.warn(\"Estimator fit failed. The score on this train-test\"\n"
     ]
    }
   ],
   "source": [
    "degree = np.arange(0, 16)\n",
    "train_score, val_score = validation_curve(PolynomialRegression(), X, y,\n",
    "                                             param_name='polynomialfeatures__degree', \n",
    "                                             param_range = degree, # what parameters to iterate over\n",
    "                                             cv=5, # number of validation folds, can also put in a KFold or StratifiedKFold object here\n",
    "                                             scoring = 'r2' # uses R-squared... 1 is perfect, below 0 is worse than guessing mean of training set y-values\n",
    "                                         )\n",
    "\n",
    "plt.plot(degree, np.median(train_score, 1), color='blue', label='training score')\n",
    "plt.plot(degree, np.median(val_score, 1), color='red', label='validation score')\n",
    "plt.legend(loc='best')\n",
    "plt.ylim(-.25, 1.25)\n",
    "plt.xlabel('degree')\n",
    "plt.ylabel('score');\n",
    "sns.despine()"
   ]
  },
  {
   "cell_type": "code",
   "execution_count": null,
   "metadata": {},
   "outputs": [],
   "source": []
  }
 ],
 "metadata": {
  "kernelspec": {
   "display_name": "Python 3",
   "language": "python",
   "name": "python3"
  },
  "language_info": {
   "codemirror_mode": {
    "name": "ipython",
    "version": 3
   },
   "file_extension": ".py",
   "mimetype": "text/x-python",
   "name": "python",
   "nbconvert_exporter": "python",
   "pygments_lexer": "ipython3",
   "version": "3.8.3"
  }
 },
 "nbformat": 4,
 "nbformat_minor": 4
}

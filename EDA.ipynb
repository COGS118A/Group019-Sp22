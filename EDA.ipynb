{
 "cells": [
  {
   "cell_type": "markdown",
   "metadata": {},
   "source": [
    "## Exploratory data analysis"
   ]
  },
  {
   "cell_type": "code",
   "execution_count": 1,
   "metadata": {},
   "outputs": [],
   "source": [
    "import pandas as pd\n",
    "import numpy as np\n",
    "from sklearn.model_selection import train_test_split\n",
    "from sklearn.linear_model import LinearRegression\n",
    "from sklearn.linear_model import LogisticRegression\n",
    "from sklearn.ensemble import RandomForestClassifier\n",
    "from sklearn.tree import DecisionTreeClassifier\n",
    "from sklearn.linear_model import LogisticRegression\n",
    "from sklearn.svm import SVC\n",
    "from sklearn.neighbors import KNeighborsClassifier\n",
    "import matplotlib.pyplot as plt\n",
    "import seaborn as sns"
   ]
  },
  {
   "cell_type": "code",
   "execution_count": 2,
   "metadata": {},
   "outputs": [
    {
     "data": {
      "text/html": [
       "<div>\n",
       "<style scoped>\n",
       "    .dataframe tbody tr th:only-of-type {\n",
       "        vertical-align: middle;\n",
       "    }\n",
       "\n",
       "    .dataframe tbody tr th {\n",
       "        vertical-align: top;\n",
       "    }\n",
       "\n",
       "    .dataframe thead th {\n",
       "        text-align: right;\n",
       "    }\n",
       "</style>\n",
       "<table border=\"1\" class=\"dataframe\">\n",
       "  <thead>\n",
       "    <tr style=\"text-align: right;\">\n",
       "      <th></th>\n",
       "      <th>date</th>\n",
       "      <th>NY_cgas</th>\n",
       "      <th>US_cgas</th>\n",
       "      <th>WTI_crude_oil</th>\n",
       "      <th>NY_hoil</th>\n",
       "      <th>Open</th>\n",
       "      <th>High</th>\n",
       "      <th>Low</th>\n",
       "      <th>Close</th>\n",
       "      <th>Volume</th>\n",
       "      <th>...</th>\n",
       "      <th>CDLSHOOTINGSTAR_Bear</th>\n",
       "      <th>CDLSPINNINGTOP_Bear</th>\n",
       "      <th>CDLSPINNINGTOP_Bull</th>\n",
       "      <th>CDLSTICKSANDWICH_Bull</th>\n",
       "      <th>CDLTASUKIGAP_Bear</th>\n",
       "      <th>CDLTASUKIGAP_Bull</th>\n",
       "      <th>CDLTHRUSTING_Bear</th>\n",
       "      <th>CDLTRISTAR_Bear</th>\n",
       "      <th>CDLTRISTAR_Bull</th>\n",
       "      <th>NO_PATTERN</th>\n",
       "    </tr>\n",
       "  </thead>\n",
       "  <tbody>\n",
       "    <tr>\n",
       "      <th>0</th>\n",
       "      <td>1986-06-02</td>\n",
       "      <td>0.468</td>\n",
       "      <td>0.445</td>\n",
       "      <td>13.80</td>\n",
       "      <td>0.402</td>\n",
       "      <td>-0.910826</td>\n",
       "      <td>-0.924568</td>\n",
       "      <td>-0.924449</td>\n",
       "      <td>-0.925426</td>\n",
       "      <td>-0.917674</td>\n",
       "      <td>...</td>\n",
       "      <td>0.0</td>\n",
       "      <td>0.0</td>\n",
       "      <td>0.0</td>\n",
       "      <td>0.0</td>\n",
       "      <td>0.0</td>\n",
       "      <td>0.0</td>\n",
       "      <td>0.0</td>\n",
       "      <td>0.0</td>\n",
       "      <td>0.0</td>\n",
       "      <td>0.0</td>\n",
       "    </tr>\n",
       "    <tr>\n",
       "      <th>1</th>\n",
       "      <td>1986-06-03</td>\n",
       "      <td>0.436</td>\n",
       "      <td>0.418</td>\n",
       "      <td>13.35</td>\n",
       "      <td>0.393</td>\n",
       "      <td>-0.911828</td>\n",
       "      <td>-0.926807</td>\n",
       "      <td>-0.924611</td>\n",
       "      <td>-0.924952</td>\n",
       "      <td>-0.920866</td>\n",
       "      <td>...</td>\n",
       "      <td>0.0</td>\n",
       "      <td>0.0</td>\n",
       "      <td>0.0</td>\n",
       "      <td>0.0</td>\n",
       "      <td>0.0</td>\n",
       "      <td>0.0</td>\n",
       "      <td>0.0</td>\n",
       "      <td>0.0</td>\n",
       "      <td>1.0</td>\n",
       "      <td>0.0</td>\n",
       "    </tr>\n",
       "    <tr>\n",
       "      <th>2</th>\n",
       "      <td>1986-06-04</td>\n",
       "      <td>0.418</td>\n",
       "      <td>0.398</td>\n",
       "      <td>13.15</td>\n",
       "      <td>0.378</td>\n",
       "      <td>-0.911357</td>\n",
       "      <td>-0.926014</td>\n",
       "      <td>-0.925708</td>\n",
       "      <td>-0.926537</td>\n",
       "      <td>-0.919621</td>\n",
       "      <td>...</td>\n",
       "      <td>0.0</td>\n",
       "      <td>0.0</td>\n",
       "      <td>0.0</td>\n",
       "      <td>0.0</td>\n",
       "      <td>0.0</td>\n",
       "      <td>0.0</td>\n",
       "      <td>0.0</td>\n",
       "      <td>0.0</td>\n",
       "      <td>0.0</td>\n",
       "      <td>0.0</td>\n",
       "    </tr>\n",
       "    <tr>\n",
       "      <th>3</th>\n",
       "      <td>1986-06-05</td>\n",
       "      <td>0.431</td>\n",
       "      <td>0.415</td>\n",
       "      <td>13.21</td>\n",
       "      <td>0.390</td>\n",
       "      <td>-0.912930</td>\n",
       "      <td>-0.926657</td>\n",
       "      <td>-0.924875</td>\n",
       "      <td>-0.924811</td>\n",
       "      <td>-0.922921</td>\n",
       "      <td>...</td>\n",
       "      <td>0.0</td>\n",
       "      <td>0.0</td>\n",
       "      <td>0.0</td>\n",
       "      <td>0.0</td>\n",
       "      <td>0.0</td>\n",
       "      <td>0.0</td>\n",
       "      <td>0.0</td>\n",
       "      <td>0.0</td>\n",
       "      <td>0.0</td>\n",
       "      <td>0.0</td>\n",
       "    </tr>\n",
       "    <tr>\n",
       "      <th>4</th>\n",
       "      <td>1986-06-06</td>\n",
       "      <td>0.421</td>\n",
       "      <td>0.403</td>\n",
       "      <td>12.73</td>\n",
       "      <td>0.385</td>\n",
       "      <td>-0.911217</td>\n",
       "      <td>-0.926245</td>\n",
       "      <td>-0.923840</td>\n",
       "      <td>-0.924791</td>\n",
       "      <td>-0.922921</td>\n",
       "      <td>...</td>\n",
       "      <td>0.0</td>\n",
       "      <td>0.0</td>\n",
       "      <td>0.0</td>\n",
       "      <td>0.0</td>\n",
       "      <td>0.0</td>\n",
       "      <td>0.0</td>\n",
       "      <td>0.0</td>\n",
       "      <td>0.0</td>\n",
       "      <td>0.0</td>\n",
       "      <td>0.0</td>\n",
       "    </tr>\n",
       "  </tbody>\n",
       "</table>\n",
       "<p>5 rows × 56 columns</p>\n",
       "</div>"
      ],
      "text/plain": [
       "         date  NY_cgas  US_cgas  WTI_crude_oil  NY_hoil      Open      High  \\\n",
       "0  1986-06-02    0.468    0.445          13.80    0.402 -0.910826 -0.924568   \n",
       "1  1986-06-03    0.436    0.418          13.35    0.393 -0.911828 -0.926807   \n",
       "2  1986-06-04    0.418    0.398          13.15    0.378 -0.911357 -0.926014   \n",
       "3  1986-06-05    0.431    0.415          13.21    0.390 -0.912930 -0.926657   \n",
       "4  1986-06-06    0.421    0.403          12.73    0.385 -0.911217 -0.926245   \n",
       "\n",
       "        Low     Close    Volume  ...  CDLSHOOTINGSTAR_Bear  \\\n",
       "0 -0.924449 -0.925426 -0.917674  ...                   0.0   \n",
       "1 -0.924611 -0.924952 -0.920866  ...                   0.0   \n",
       "2 -0.925708 -0.926537 -0.919621  ...                   0.0   \n",
       "3 -0.924875 -0.924811 -0.922921  ...                   0.0   \n",
       "4 -0.923840 -0.924791 -0.922921  ...                   0.0   \n",
       "\n",
       "   CDLSPINNINGTOP_Bear  CDLSPINNINGTOP_Bull  CDLSTICKSANDWICH_Bull  \\\n",
       "0                  0.0                  0.0                    0.0   \n",
       "1                  0.0                  0.0                    0.0   \n",
       "2                  0.0                  0.0                    0.0   \n",
       "3                  0.0                  0.0                    0.0   \n",
       "4                  0.0                  0.0                    0.0   \n",
       "\n",
       "   CDLTASUKIGAP_Bear  CDLTASUKIGAP_Bull  CDLTHRUSTING_Bear  CDLTRISTAR_Bear  \\\n",
       "0                0.0                0.0                0.0              0.0   \n",
       "1                0.0                0.0                0.0              0.0   \n",
       "2                0.0                0.0                0.0              0.0   \n",
       "3                0.0                0.0                0.0              0.0   \n",
       "4                0.0                0.0                0.0              0.0   \n",
       "\n",
       "   CDLTRISTAR_Bull  NO_PATTERN  \n",
       "0              0.0         0.0  \n",
       "1              1.0         0.0  \n",
       "2              0.0         0.0  \n",
       "3              0.0         0.0  \n",
       "4              0.0         0.0  \n",
       "\n",
       "[5 rows x 56 columns]"
      ]
     },
     "execution_count": 2,
     "metadata": {},
     "output_type": "execute_result"
    }
   ],
   "source": [
    "df = pd.read_csv('cleaned_data.csv', index_col=0)\n",
    "df.head()"
   ]
  },
  {
   "cell_type": "code",
   "execution_count": 3,
   "metadata": {},
   "outputs": [],
   "source": [
    "y = df[\"true_value\"]\n",
    "X = df.loc[:, ['NY_cgas', 'US_cgas', 'WTI_crude_oil', 'NY_hoil', 'Open',\n",
    "       'High', 'Low', 'Close', 'Volume', 'up/down', 'Sentiment', 'USD', 'CDL3INSIDE_Bear', 'CDL3INSIDE_Bull', 'CDL3OUTSIDE_Bear',\n",
    "       'CDL3OUTSIDE_Bull', 'CDLBELTHOLD_Bear', 'CDLBELTHOLD_Bull',\n",
    "       'CDLCLOSINGMARUBOZU_Bear', 'CDLCLOSINGMARUBOZU_Bull',\n",
    "       'CDLDARKCLOUDCOVER_Bear', 'CDLDOJI_Bull', 'CDLENGULFING_Bear',\n",
    "       'CDLENGULFING_Bull', 'CDLGAPSIDESIDEWHITE_Bear',\n",
    "       'CDLGAPSIDESIDEWHITE_Bull', 'CDLHAMMER_Bull', 'CDLHANGINGMAN_Bear',\n",
    "       'CDLHARAMI_Bear', 'CDLHARAMI_Bull', 'CDLHIGHWAVE_Bear',\n",
    "       'CDLHIGHWAVE_Bull', 'CDLHIKKAKE_Bear', 'CDLHIKKAKE_Bull',\n",
    "       'CDLHOMINGPIGEON_Bull', 'CDLINNECK_Bear', 'CDLINVERTEDHAMMER_Bull',\n",
    "       'CDLLONGLEGGEDDOJI_Bull', 'CDLMATCHINGLOW_Bull', 'CDLONNECK_Bear',\n",
    "       'CDLPIERCING_Bull', 'CDLRICKSHAWMAN_Bull', 'CDLSEPARATINGLINES_Bear',\n",
    "       'CDLSEPARATINGLINES_Bull', 'CDLSHOOTINGSTAR_Bear',\n",
    "       'CDLSPINNINGTOP_Bear', 'CDLSPINNINGTOP_Bull', 'CDLSTICKSANDWICH_Bull',\n",
    "       'CDLTASUKIGAP_Bear', 'CDLTASUKIGAP_Bull', 'CDLTHRUSTING_Bear',\n",
    "       'CDLTRISTAR_Bear', 'CDLTRISTAR_Bull', 'NO_PATTERN']]"
   ]
  },
  {
   "cell_type": "code",
   "execution_count": 4,
   "metadata": {},
   "outputs": [
    {
     "name": "stderr",
     "output_type": "stream",
     "text": [
      "/usr/local/anaconda3/lib/python3.8/site-packages/sklearn/linear_model/_logistic.py:762: ConvergenceWarning: lbfgs failed to converge (status=1):\n",
      "STOP: TOTAL NO. of ITERATIONS REACHED LIMIT.\n",
      "\n",
      "Increase the number of iterations (max_iter) or scale the data as shown in:\n",
      "    https://scikit-learn.org/stable/modules/preprocessing.html\n",
      "Please also refer to the documentation for alternative solver options:\n",
      "    https://scikit-learn.org/stable/modules/linear_model.html#logistic-regression\n",
      "  n_iter_i = _check_optimize_result(\n"
     ]
    }
   ],
   "source": [
    "#split data\n",
    "X_train, X_test, y_train, y_test = train_test_split(X, y, test_size=0.33, random_state=42)\n",
    "\n",
    "scores = []\n",
    "\n",
    "#run logistic model\n",
    "log = LogisticRegression(random_state=42).fit(X_train, y_train)\n",
    "scores = np.append(scores,log.score(X_test, y_test))\n",
    "\n",
    "#run random forest\n",
    "ran = RandomForestClassifier(max_depth=2, random_state=0).fit(X_train, y_train)\n",
    "scores = np.append(scores,ran.score(X_test, y_test))\n",
    "\n",
    "#run decision tree\n",
    "tree = DecisionTreeClassifier(random_state=0).fit(X_train, y_train)\n",
    "scores = np.append(scores,tree.score(X_test, y_test))\n",
    "\n",
    "#run SVM \n",
    "svm = SVC(gamma='auto').fit(X_train, y_train)\n",
    "scores = np.append(scores,svm.score(X_test, y_test))\n",
    "\n",
    "#run KNN\n",
    "neighbor = KNeighborsClassifier(n_neighbors=3).fit(X_train, y_train)\n",
    "scores = np.append(scores,neighbor.score(X_test, y_test))\n"
   ]
  },
  {
   "cell_type": "code",
   "execution_count": 5,
   "metadata": {},
   "outputs": [
    {
     "data": {
      "text/plain": [
       "Text(0.5, 1.0, 'Models')"
      ]
     },
     "execution_count": 5,
     "metadata": {},
     "output_type": "execute_result"
    },
    {
     "data": {
      "image/png": "[encoded data removed]",
      "text/plain": [
       "<Figure size 432x288 with 1 Axes>"
      ]
     },
     "metadata": {
      "needs_background": "light"
     },
     "output_type": "display_data"
    }
   ],
   "source": [
    "plt.figure()\n",
    "plt.bar(range(5), scores)\n",
    "labels = ['Logistic','Random Forrest','Decision Tree','SVM','KNN']\n",
    "plt.xticks(range(5),labels,rotation='vertical')\n",
    "plt.title('Models')\n",
    "# plt.xlabel('False Positive Rate')\n",
    "# plt.ylabel('True Positive Rate')"
   ]
  },
  {
   "cell_type": "code",
   "execution_count": 6,
   "metadata": {},
   "outputs": [
    {
     "data": {
      "text/plain": [
       "array([0.70822011, 0.68953804, 0.66168478, 0.67595109, 0.63383152])"
      ]
     },
     "execution_count": 6,
     "metadata": {},
     "output_type": "execute_result"
    }
   ],
   "source": [
    "scores"
   ]
  },
  {
   "cell_type": "code",
   "execution_count": 7,
   "metadata": {},
   "outputs": [],
   "source": [
    "# from sklearn.metrics import roc_auc_score, roc_curve\n",
    "# import matplotlib.pyplot as plt\n",
    "\n",
    "# prob = clf.predict_proba(X_test)\n",
    "# prob = prob[:,1]\n",
    "\n",
    "# roc_auc = roc_auc_score(y_test, prob)\n",
    "# fpr, tpr, thresholds = roc_curve(y_test, prob)\n",
    "\n",
    "# # plotting the ROC curve\n",
    "# plt.figure(dpi=100)\n",
    "# plt.plot(fpr, tpr)\n",
    "# plt.title('ROC curve')\n",
    "# plt.xlabel('False Positive Rate')\n",
    "# plt.ylabel('True Positive Rate')\n",
    "\n",
    "# print('Area under the Receiver Operating Characteristic curve:', \n",
    "#       roc_auc)"
   ]
  },
  {
   "cell_type": "code",
   "execution_count": 8,
   "metadata": {},
   "outputs": [],
   "source": [
    "# from sklearn.model_selection import validation_curve\n",
    "# from sklearn.metrics import r2_score\n",
    "# from sklearn.pipeline import make_pipeline\n",
    "# from sklearn.preprocessing import PolynomialFeatures\n",
    "# from sklearn.linear_model import LinearRegression\n",
    "\n",
    "# def PolynomialRegression(degree=7, **kwargs):\n",
    "#     return make_pipeline(PolynomialFeatures(degree),\n",
    "#                          LinearRegression(**kwargs))"
   ]
  },
  {
   "cell_type": "code",
   "execution_count": 9,
   "metadata": {},
   "outputs": [],
   "source": [
    "# degree = np.arange(0, 16)\n",
    "# train_score, val_score = validation_curve(PolynomialRegression(), X, y,\n",
    "#                                              param_name='polynomialfeatures__degree', \n",
    "#                                              param_range = degree, # what parameters to iterate over\n",
    "#                                              cv=5, # number of validation folds, can also put in a KFold or StratifiedKFold object here\n",
    "#                                              scoring = 'r2' # uses R-squared... 1 is perfect, below 0 is worse than guessing mean of training set y-values\n",
    "#                                          )\n",
    "\n",
    "# plt.plot(degree, np.median(train_score, 1), color='blue', label='training score')\n",
    "# plt.plot(degree, np.median(val_score, 1), color='red', label='validation score')\n",
    "# plt.legend(loc='best')\n",
    "# plt.ylim(-.25, 1.25)\n",
    "# plt.xlabel('degree')\n",
    "# plt.ylabel('score');\n",
    "# sns.despine()"
   ]
  },
  {
   "cell_type": "code",
   "execution_count": null,
   "metadata": {},
   "outputs": [],
   "source": []
  }
 ],
 "metadata": {
  "kernelspec": {
   "display_name": "Python 3",
   "language": "python",
   "name": "python3"
  },
  "language_info": {
   "codemirror_mode": {
    "name": "ipython",
    "version": 3
   },
   "file_extension": ".py",
   "mimetype": "text/x-python",
   "name": "python",
   "nbconvert_exporter": "python",
   "pygments_lexer": "ipython3",
   "version": "3.8.3"
  }
 },
 "nbformat": 4,
 "nbformat_minor": 4
}

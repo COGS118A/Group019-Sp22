{
 "cells": [
  {
   "cell_type": "markdown",
   "metadata": {},
   "source": [
    "# Preprocessing\n",
    "## Using 2018 data"
   ]
  },
  {
   "cell_type": "code",
   "execution_count": 1,
   "metadata": {},
   "outputs": [],
   "source": [
    "import pandas as pd\n",
    "import numpy as np\n",
    "from sklearn.model_selection import train_test_split\n",
    "from datetime import datetime\n",
    "from sklearn.ensemble import RandomForestClassifier\n",
    "from sklearn.tree import DecisionTreeClassifier\n",
    "from sklearn.linear_model import LogisticRegression\n",
    "from sklearn.svm import SVC\n",
    "from sklearn.neighbors import KNeighborsClassifier\n",
    "import matplotlib.pyplot as plt\n"
   ]
  },
  {
   "cell_type": "markdown",
   "metadata": {},
   "source": [
    "### Data cleaning"
   ]
  },
  {
   "cell_type": "code",
   "execution_count": 2,
   "metadata": {},
   "outputs": [],
   "source": [
    "sp_df = pd.read_csv('/Users/jordynohashi/Desktop/COGS118A/Group019-Sp22/SP500/SP500_processed.csv', index_col=0)\n",
    "news_df = pd.read_csv('/Users/jordynohashi/Desktop/COGS118A/Group019-Sp22/2018news_sentiments.csv', index_col=0)\n"
   ]
  },
  {
   "cell_type": "code",
   "execution_count": 3,
   "metadata": {},
   "outputs": [],
   "source": [
    "#str date to datetime object\n",
    "news_df['date']=news_df['date'].apply(lambda row: datetime.strptime(row, \"%m/%d/%Y\"))\n",
    "#round true values\n",
    "sp_df['true_value'] = sp_df['true_value'].apply(lambda x: np.round(x))\n",
    "#rename col\n",
    "sp_df.rename(columns = {'Date':'date'}, inplace = True)\n",
    "#change type\n",
    "sp_df['date'] = sp_df['date'].astype('datetime64[ns]')"
   ]
  },
  {
   "cell_type": "code",
   "execution_count": 4,
   "metadata": {},
   "outputs": [
    {
     "data": {
      "text/html": [
       "<div>\n",
       "<style scoped>\n",
       "    .dataframe tbody tr th:only-of-type {\n",
       "        vertical-align: middle;\n",
       "    }\n",
       "\n",
       "    .dataframe tbody tr th {\n",
       "        vertical-align: top;\n",
       "    }\n",
       "\n",
       "    .dataframe thead th {\n",
       "        text-align: right;\n",
       "    }\n",
       "</style>\n",
       "<table border=\"1\" class=\"dataframe\">\n",
       "  <thead>\n",
       "    <tr style=\"text-align: right;\">\n",
       "      <th></th>\n",
       "      <th>date</th>\n",
       "      <th>index</th>\n",
       "      <th>Open</th>\n",
       "      <th>High</th>\n",
       "      <th>Low</th>\n",
       "      <th>Close</th>\n",
       "      <th>Volume</th>\n",
       "      <th>up/down</th>\n",
       "      <th>true_value</th>\n",
       "    </tr>\n",
       "  </thead>\n",
       "  <tbody>\n",
       "    <tr>\n",
       "      <th>0</th>\n",
       "      <td>2018-01-02</td>\n",
       "      <td>-1.725164</td>\n",
       "      <td>-0.648749</td>\n",
       "      <td>-0.717987</td>\n",
       "      <td>-0.450101</td>\n",
       "      <td>-0.502990</td>\n",
       "      <td>-0.356569</td>\n",
       "      <td>0.996024</td>\n",
       "      <td>1.0</td>\n",
       "    </tr>\n",
       "    <tr>\n",
       "      <th>1</th>\n",
       "      <td>2018-01-03</td>\n",
       "      <td>-1.711363</td>\n",
       "      <td>-0.506020</td>\n",
       "      <td>-0.519223</td>\n",
       "      <td>-0.305372</td>\n",
       "      <td>-0.330849</td>\n",
       "      <td>-0.107277</td>\n",
       "      <td>0.996024</td>\n",
       "      <td>1.0</td>\n",
       "    </tr>\n",
       "    <tr>\n",
       "      <th>2</th>\n",
       "      <td>2018-01-04</td>\n",
       "      <td>-1.697561</td>\n",
       "      <td>-0.289100</td>\n",
       "      <td>-0.358751</td>\n",
       "      <td>-0.105322</td>\n",
       "      <td>-0.221778</td>\n",
       "      <td>0.120476</td>\n",
       "      <td>0.996024</td>\n",
       "      <td>1.0</td>\n",
       "    </tr>\n",
       "    <tr>\n",
       "      <th>3</th>\n",
       "      <td>2018-01-05</td>\n",
       "      <td>-1.683760</td>\n",
       "      <td>-0.167600</td>\n",
       "      <td>-0.206454</td>\n",
       "      <td>-0.022204</td>\n",
       "      <td>-0.030579</td>\n",
       "      <td>-0.546551</td>\n",
       "      <td>0.996024</td>\n",
       "      <td>1.0</td>\n",
       "    </tr>\n",
       "    <tr>\n",
       "      <th>4</th>\n",
       "      <td>2018-01-08</td>\n",
       "      <td>-1.669959</td>\n",
       "      <td>-0.052975</td>\n",
       "      <td>-0.152031</td>\n",
       "      <td>0.068712</td>\n",
       "      <td>0.014927</td>\n",
       "      <td>-0.537782</td>\n",
       "      <td>0.996024</td>\n",
       "      <td>1.0</td>\n",
       "    </tr>\n",
       "  </tbody>\n",
       "</table>\n",
       "</div>"
      ],
      "text/plain": [
       "        date     index      Open      High       Low     Close    Volume  \\\n",
       "0 2018-01-02 -1.725164 -0.648749 -0.717987 -0.450101 -0.502990 -0.356569   \n",
       "1 2018-01-03 -1.711363 -0.506020 -0.519223 -0.305372 -0.330849 -0.107277   \n",
       "2 2018-01-04 -1.697561 -0.289100 -0.358751 -0.105322 -0.221778  0.120476   \n",
       "3 2018-01-05 -1.683760 -0.167600 -0.206454 -0.022204 -0.030579 -0.546551   \n",
       "4 2018-01-08 -1.669959 -0.052975 -0.152031  0.068712  0.014927 -0.537782   \n",
       "\n",
       "    up/down  true_value  \n",
       "0  0.996024         1.0  \n",
       "1  0.996024         1.0  \n",
       "2  0.996024         1.0  \n",
       "3  0.996024         1.0  \n",
       "4  0.996024         1.0  "
      ]
     },
     "execution_count": 4,
     "metadata": {},
     "output_type": "execute_result"
    }
   ],
   "source": [
    "sp_df.head()"
   ]
  },
  {
   "cell_type": "code",
   "execution_count": 5,
   "metadata": {},
   "outputs": [
    {
     "data": {
      "text/html": [
       "<div>\n",
       "<style scoped>\n",
       "    .dataframe tbody tr th:only-of-type {\n",
       "        vertical-align: middle;\n",
       "    }\n",
       "\n",
       "    .dataframe tbody tr th {\n",
       "        vertical-align: top;\n",
       "    }\n",
       "\n",
       "    .dataframe thead th {\n",
       "        text-align: right;\n",
       "    }\n",
       "</style>\n",
       "<table border=\"1\" class=\"dataframe\">\n",
       "  <thead>\n",
       "    <tr style=\"text-align: right;\">\n",
       "      <th></th>\n",
       "      <th>date</th>\n",
       "      <th>News Sentiment</th>\n",
       "    </tr>\n",
       "  </thead>\n",
       "  <tbody>\n",
       "    <tr>\n",
       "      <th>0</th>\n",
       "      <td>2018-01-01</td>\n",
       "      <td>0.256823</td>\n",
       "    </tr>\n",
       "    <tr>\n",
       "      <th>1</th>\n",
       "      <td>2018-01-02</td>\n",
       "      <td>0.249558</td>\n",
       "    </tr>\n",
       "    <tr>\n",
       "      <th>2</th>\n",
       "      <td>2018-01-03</td>\n",
       "      <td>0.268506</td>\n",
       "    </tr>\n",
       "    <tr>\n",
       "      <th>3</th>\n",
       "      <td>2018-01-04</td>\n",
       "      <td>0.240391</td>\n",
       "    </tr>\n",
       "    <tr>\n",
       "      <th>4</th>\n",
       "      <td>2018-01-05</td>\n",
       "      <td>0.239910</td>\n",
       "    </tr>\n",
       "  </tbody>\n",
       "</table>\n",
       "</div>"
      ],
      "text/plain": [
       "        date  News Sentiment\n",
       "0 2018-01-01        0.256823\n",
       "1 2018-01-02        0.249558\n",
       "2 2018-01-03        0.268506\n",
       "3 2018-01-04        0.240391\n",
       "4 2018-01-05        0.239910"
      ]
     },
     "execution_count": 5,
     "metadata": {},
     "output_type": "execute_result"
    }
   ],
   "source": [
    "news_df.head()"
   ]
  },
  {
   "cell_type": "code",
   "execution_count": 6,
   "metadata": {},
   "outputs": [],
   "source": [
    "df = pd.merge(sp_df, news_df, on=\"date\", how=\"left\")\n",
    "df = df[['date', 'index', 'Open', 'High', 'Low', 'Close', 'Volume', 'up/down', 'News Sentiment','true_value']]"
   ]
  },
  {
   "cell_type": "code",
   "execution_count": 7,
   "metadata": {},
   "outputs": [
    {
     "data": {
      "text/html": [
       "<div>\n",
       "<style scoped>\n",
       "    .dataframe tbody tr th:only-of-type {\n",
       "        vertical-align: middle;\n",
       "    }\n",
       "\n",
       "    .dataframe tbody tr th {\n",
       "        vertical-align: top;\n",
       "    }\n",
       "\n",
       "    .dataframe thead th {\n",
       "        text-align: right;\n",
       "    }\n",
       "</style>\n",
       "<table border=\"1\" class=\"dataframe\">\n",
       "  <thead>\n",
       "    <tr style=\"text-align: right;\">\n",
       "      <th></th>\n",
       "      <th>date</th>\n",
       "      <th>index</th>\n",
       "      <th>Open</th>\n",
       "      <th>High</th>\n",
       "      <th>Low</th>\n",
       "      <th>Close</th>\n",
       "      <th>Volume</th>\n",
       "      <th>up/down</th>\n",
       "      <th>News Sentiment</th>\n",
       "      <th>true_value</th>\n",
       "    </tr>\n",
       "  </thead>\n",
       "  <tbody>\n",
       "    <tr>\n",
       "      <th>0</th>\n",
       "      <td>2018-01-02</td>\n",
       "      <td>-1.725164</td>\n",
       "      <td>-0.648749</td>\n",
       "      <td>-0.717987</td>\n",
       "      <td>-0.450101</td>\n",
       "      <td>-0.502990</td>\n",
       "      <td>-0.356569</td>\n",
       "      <td>0.996024</td>\n",
       "      <td>0.249558</td>\n",
       "      <td>1.0</td>\n",
       "    </tr>\n",
       "    <tr>\n",
       "      <th>1</th>\n",
       "      <td>2018-01-03</td>\n",
       "      <td>-1.711363</td>\n",
       "      <td>-0.506020</td>\n",
       "      <td>-0.519223</td>\n",
       "      <td>-0.305372</td>\n",
       "      <td>-0.330849</td>\n",
       "      <td>-0.107277</td>\n",
       "      <td>0.996024</td>\n",
       "      <td>0.268506</td>\n",
       "      <td>1.0</td>\n",
       "    </tr>\n",
       "    <tr>\n",
       "      <th>2</th>\n",
       "      <td>2018-01-04</td>\n",
       "      <td>-1.697561</td>\n",
       "      <td>-0.289100</td>\n",
       "      <td>-0.358751</td>\n",
       "      <td>-0.105322</td>\n",
       "      <td>-0.221778</td>\n",
       "      <td>0.120476</td>\n",
       "      <td>0.996024</td>\n",
       "      <td>0.240391</td>\n",
       "      <td>1.0</td>\n",
       "    </tr>\n",
       "    <tr>\n",
       "      <th>3</th>\n",
       "      <td>2018-01-05</td>\n",
       "      <td>-1.683760</td>\n",
       "      <td>-0.167600</td>\n",
       "      <td>-0.206454</td>\n",
       "      <td>-0.022204</td>\n",
       "      <td>-0.030579</td>\n",
       "      <td>-0.546551</td>\n",
       "      <td>0.996024</td>\n",
       "      <td>0.239910</td>\n",
       "      <td>1.0</td>\n",
       "    </tr>\n",
       "    <tr>\n",
       "      <th>4</th>\n",
       "      <td>2018-01-08</td>\n",
       "      <td>-1.669959</td>\n",
       "      <td>-0.052975</td>\n",
       "      <td>-0.152031</td>\n",
       "      <td>0.068712</td>\n",
       "      <td>0.014927</td>\n",
       "      <td>-0.537782</td>\n",
       "      <td>0.996024</td>\n",
       "      <td>0.274052</td>\n",
       "      <td>1.0</td>\n",
       "    </tr>\n",
       "  </tbody>\n",
       "</table>\n",
       "</div>"
      ],
      "text/plain": [
       "        date     index      Open      High       Low     Close    Volume  \\\n",
       "0 2018-01-02 -1.725164 -0.648749 -0.717987 -0.450101 -0.502990 -0.356569   \n",
       "1 2018-01-03 -1.711363 -0.506020 -0.519223 -0.305372 -0.330849 -0.107277   \n",
       "2 2018-01-04 -1.697561 -0.289100 -0.358751 -0.105322 -0.221778  0.120476   \n",
       "3 2018-01-05 -1.683760 -0.167600 -0.206454 -0.022204 -0.030579 -0.546551   \n",
       "4 2018-01-08 -1.669959 -0.052975 -0.152031  0.068712  0.014927 -0.537782   \n",
       "\n",
       "    up/down  News Sentiment  true_value  \n",
       "0  0.996024        0.249558         1.0  \n",
       "1  0.996024        0.268506         1.0  \n",
       "2  0.996024        0.240391         1.0  \n",
       "3  0.996024        0.239910         1.0  \n",
       "4  0.996024        0.274052         1.0  "
      ]
     },
     "execution_count": 7,
     "metadata": {},
     "output_type": "execute_result"
    }
   ],
   "source": [
    "df.head()"
   ]
  },
  {
   "cell_type": "code",
   "execution_count": 8,
   "metadata": {},
   "outputs": [],
   "source": [
    "y = df[\"true_value\"]\n",
    "X = df.iloc[:, 1:-1]"
   ]
  },
  {
   "cell_type": "code",
   "execution_count": 9,
   "metadata": {},
   "outputs": [],
   "source": [
    "#split data\n",
    "X_train, X_test, y_train, y_test = train_test_split(X, y, test_size=0.33, random_state=42)\n",
    "\n",
    "scores = []\n",
    "\n",
    "#run logistic model\n",
    "log = LogisticRegression(random_state=42).fit(X_train, y_train)\n",
    "scores = np.append(scores,log.score(X_test, y_test))\n",
    "\n",
    "#run random forest\n",
    "ran = RandomForestClassifier(max_depth=2, random_state=0).fit(X_train, y_train)\n",
    "scores = np.append(scores,ran.score(X_test, y_test))\n",
    "\n",
    "#run decision tree\n",
    "tree = DecisionTreeClassifier(random_state=0).fit(X_train, y_train)\n",
    "scores = np.append(scores,tree.score(X_test, y_test))\n",
    "\n",
    "#run SVM \n",
    "svm = SVC(gamma='auto').fit(X_train, y_train)\n",
    "scores = np.append(scores,svm.score(X_test, y_test))\n",
    "\n",
    "#run KNN\n",
    "neighbor = KNeighborsClassifier(n_neighbors=3).fit(X_train, y_train)\n",
    "scores = np.append(scores,neighbor.score(X_test, y_test))\n"
   ]
  },
  {
   "cell_type": "code",
   "execution_count": 10,
   "metadata": {},
   "outputs": [
    {
     "data": {
      "text/plain": [
       "Text(0.5, 1.0, 'Models')"
      ]
     },
     "execution_count": 10,
     "metadata": {},
     "output_type": "execute_result"
    },
    {
     "data": {
      "image/png": "[encoded data removed]",
      "text/plain": [
       "<Figure size 432x288 with 1 Axes>"
      ]
     },
     "metadata": {
      "needs_background": "light"
     },
     "output_type": "display_data"
    }
   ],
   "source": [
    "plt.figure()\n",
    "plt.bar(range(5), scores)\n",
    "labels = ['Logistic','Random Forrest','Decision Tree','SVM','KNN']\n",
    "plt.xticks(range(5),labels,rotation='vertical')\n",
    "plt.title('Models')\n",
    "# plt.xlabel('False Positive Rate')\n",
    "# plt.ylabel('True Positive Rate')"
   ]
  },
  {
   "cell_type": "code",
   "execution_count": 12,
   "metadata": {},
   "outputs": [],
   "source": [
    "# from sklearn.metrics import roc_auc_score, roc_curve\n",
    "# import matplotlib.pyplot as plt\n",
    "\n",
    "# prob = clf.predict_proba(X_test)\n",
    "# prob = prob[:,1]\n",
    "\n",
    "# roc_auc = roc_auc_score(y_test, prob)\n",
    "# fpr, tpr, thresholds = roc_curve(y_test, prob)\n",
    "\n",
    "# # plotting the ROC curve\n",
    "# plt.figure(dpi=100)\n",
    "# plt.plot(fpr, tpr)\n",
    "# plt.title('ROC curve')\n",
    "# plt.xlabel('False Positive Rate')\n",
    "# plt.ylabel('True Positive Rate')\n",
    "\n",
    "# print('Area under the Receiver Operating Characteristic curve:', \n",
    "#       roc_auc)"
   ]
  },
  {
   "cell_type": "code",
   "execution_count": null,
   "metadata": {},
   "outputs": [],
   "source": []
  },
  {
   "cell_type": "code",
   "execution_count": null,
   "metadata": {},
   "outputs": [],
   "source": []
  }
 ],
 "metadata": {
  "kernelspec": {
   "display_name": "Python 3",
   "language": "python",
   "name": "python3"
  },
  "language_info": {
   "codemirror_mode": {
    "name": "ipython",
    "version": 3
   },
   "file_extension": ".py",
   "mimetype": "text/x-python",
   "name": "python",
   "nbconvert_exporter": "python",
   "pygments_lexer": "ipython3",
   "version": "3.8.3"
  }
 },
 "nbformat": 4,
 "nbformat_minor": 4
}

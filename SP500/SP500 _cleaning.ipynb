{
 "cells": [
  {
   "cell_type": "markdown",
   "metadata": {},
   "source": [
    "# S&P500 Dataset Cleaning\n",
    "\n"
   ]
  },
  {
   "cell_type": "markdown",
   "metadata": {},
   "source": [
    "Link to dataset: https://www.kaggle.com/datasets/awadhi123/finance-data-sp-500\n",
    "\n",
    "Description: the dataset contains the candle stick data necessary for the S&P500 index from 2 Jan 2000 to 10 Jul 2020\n",
    "\n",
    "__Note:__ \n",
    "* I kept the variable \"volume\" since I think it might be a relevant feature\n",
    "* 'up/down' column: 1 represents the day's closing price is higher than its opening price; -1, lower; 0, otherwise. "
   ]
  },
  {
   "cell_type": "code",
   "execution_count": 13,
   "metadata": {},
   "outputs": [],
   "source": [
    "import pandas as pd\n",
    "df = pd.read_csv(\"SP500.csv\")   #import the data and read as df"
   ]
  },
  {
   "cell_type": "code",
   "execution_count": 14,
   "metadata": {},
   "outputs": [
    {
     "data": {
      "text/html": [
       "<div>\n",
       "<style scoped>\n",
       "    .dataframe tbody tr th:only-of-type {\n",
       "        vertical-align: middle;\n",
       "    }\n",
       "\n",
       "    .dataframe tbody tr th {\n",
       "        vertical-align: top;\n",
       "    }\n",
       "\n",
       "    .dataframe thead th {\n",
       "        text-align: right;\n",
       "    }\n",
       "</style>\n",
       "<table border=\"1\" class=\"dataframe\">\n",
       "  <thead>\n",
       "    <tr style=\"text-align: right;\">\n",
       "      <th></th>\n",
       "      <th>Date</th>\n",
       "      <th>Open</th>\n",
       "      <th>High</th>\n",
       "      <th>Low</th>\n",
       "      <th>Close</th>\n",
       "      <th>Adj Close</th>\n",
       "      <th>Volume</th>\n",
       "    </tr>\n",
       "  </thead>\n",
       "  <tbody>\n",
       "    <tr>\n",
       "      <th>0</th>\n",
       "      <td>2000-01-03</td>\n",
       "      <td>1469.250000</td>\n",
       "      <td>1478.000000</td>\n",
       "      <td>1438.359985</td>\n",
       "      <td>1455.219971</td>\n",
       "      <td>1455.219971</td>\n",
       "      <td>931800000</td>\n",
       "    </tr>\n",
       "    <tr>\n",
       "      <th>1</th>\n",
       "      <td>2000-01-04</td>\n",
       "      <td>1455.219971</td>\n",
       "      <td>1455.219971</td>\n",
       "      <td>1397.430054</td>\n",
       "      <td>1399.420044</td>\n",
       "      <td>1399.420044</td>\n",
       "      <td>1009000000</td>\n",
       "    </tr>\n",
       "    <tr>\n",
       "      <th>2</th>\n",
       "      <td>2000-01-05</td>\n",
       "      <td>1399.420044</td>\n",
       "      <td>1413.270020</td>\n",
       "      <td>1377.680054</td>\n",
       "      <td>1402.109985</td>\n",
       "      <td>1402.109985</td>\n",
       "      <td>1085500000</td>\n",
       "    </tr>\n",
       "    <tr>\n",
       "      <th>3</th>\n",
       "      <td>2000-01-06</td>\n",
       "      <td>1402.109985</td>\n",
       "      <td>1411.900024</td>\n",
       "      <td>1392.099976</td>\n",
       "      <td>1403.449951</td>\n",
       "      <td>1403.449951</td>\n",
       "      <td>1092300000</td>\n",
       "    </tr>\n",
       "    <tr>\n",
       "      <th>4</th>\n",
       "      <td>2000-01-07</td>\n",
       "      <td>1403.449951</td>\n",
       "      <td>1441.469971</td>\n",
       "      <td>1400.729980</td>\n",
       "      <td>1441.469971</td>\n",
       "      <td>1441.469971</td>\n",
       "      <td>1225200000</td>\n",
       "    </tr>\n",
       "  </tbody>\n",
       "</table>\n",
       "</div>"
      ],
      "text/plain": [
       "         Date         Open         High          Low        Close  \\\n",
       "0  2000-01-03  1469.250000  1478.000000  1438.359985  1455.219971   \n",
       "1  2000-01-04  1455.219971  1455.219971  1397.430054  1399.420044   \n",
       "2  2000-01-05  1399.420044  1413.270020  1377.680054  1402.109985   \n",
       "3  2000-01-06  1402.109985  1411.900024  1392.099976  1403.449951   \n",
       "4  2000-01-07  1403.449951  1441.469971  1400.729980  1441.469971   \n",
       "\n",
       "     Adj Close      Volume  \n",
       "0  1455.219971   931800000  \n",
       "1  1399.420044  1009000000  \n",
       "2  1402.109985  1085500000  \n",
       "3  1403.449951  1092300000  \n",
       "4  1441.469971  1225200000  "
      ]
     },
     "execution_count": 14,
     "metadata": {},
     "output_type": "execute_result"
    }
   ],
   "source": [
    "df.head()"
   ]
  },
  {
   "cell_type": "markdown",
   "metadata": {},
   "source": [
    "Adjusted close price is not relevant, I dropped it: "
   ]
  },
  {
   "cell_type": "code",
   "execution_count": 15,
   "metadata": {},
   "outputs": [],
   "source": [
    "df = df.drop(['Adj Close'], axis = 1)"
   ]
  },
  {
   "cell_type": "code",
   "execution_count": 16,
   "metadata": {},
   "outputs": [
    {
     "name": "stdout",
     "output_type": "stream",
     "text": [
      "The first workday of 2018 is 2018-01-02\n",
      "The last workday of 2018 is 2018-12-31\n"
     ]
    }
   ],
   "source": [
    "print(\"The first workday of 2018 is \" + df[\"Date\"][4528])\n",
    "print(\"The last workday of 2018 is \" + df[\"Date\"][4778])"
   ]
  },
  {
   "cell_type": "markdown",
   "metadata": {},
   "source": [
    "I dropped all observations outside the above range and reset the indices"
   ]
  },
  {
   "cell_type": "code",
   "execution_count": 17,
   "metadata": {},
   "outputs": [],
   "source": [
    "#drop unnecessary observations since we only look at 2018's data\n",
    "df = df[4528:4779].reset_index()"
   ]
  },
  {
   "cell_type": "code",
   "execution_count": 18,
   "metadata": {},
   "outputs": [
    {
     "data": {
      "text/plain": [
       "0      2018-01-02\n",
       "1      2018-01-03\n",
       "2      2018-01-04\n",
       "3      2018-01-05\n",
       "4      2018-01-08\n",
       "          ...    \n",
       "246    2018-12-24\n",
       "247    2018-12-26\n",
       "248    2018-12-27\n",
       "249    2018-12-28\n",
       "250    2018-12-31\n",
       "Name: Date, Length: 251, dtype: object"
      ]
     },
     "execution_count": 18,
     "metadata": {},
     "output_type": "execute_result"
    }
   ],
   "source": [
    "#check the range of dates\n",
    "df[\"Date\"]"
   ]
  },
  {
   "cell_type": "code",
   "execution_count": 19,
   "metadata": {},
   "outputs": [
    {
     "name": "stderr",
     "output_type": "stream",
     "text": [
      "<ipython-input-19-1dd7e75e2832>:8: SettingWithCopyWarning: \n",
      "A value is trying to be set on a copy of a slice from a DataFrame\n",
      "\n",
      "See the caveats in the documentation: https://pandas.pydata.org/pandas-docs/stable/user_guide/indexing.html#returning-a-view-versus-a-copy\n",
      "  df['up/down'][i] = 1\n",
      "<ipython-input-19-1dd7e75e2832>:6: SettingWithCopyWarning: \n",
      "A value is trying to be set on a copy of a slice from a DataFrame\n",
      "\n",
      "See the caveats in the documentation: https://pandas.pydata.org/pandas-docs/stable/user_guide/indexing.html#returning-a-view-versus-a-copy\n",
      "  df['up/down'][i] = -1\n"
     ]
    }
   ],
   "source": [
    "# new column 'up/down': if closing price is higher than opening \n",
    "# price, displays 1; if lower. displays -1; else displays 0\n",
    "df['up/down'] = 0\n",
    "for i in range(df.shape[0]): \n",
    "  if df['Open'][i] > df['Close'][i]: \n",
    "    df['up/down'][i] = -1\n",
    "  elif df['Open'][i] < df['Close'][i]:\n",
    "    df['up/down'][i] = 1"
   ]
  },
  {
   "cell_type": "code",
   "execution_count": 20,
   "metadata": {},
   "outputs": [
    {
     "name": "stderr",
     "output_type": "stream",
     "text": [
      "<ipython-input-20-8e714f51eadc>:7: SettingWithCopyWarning: \n",
      "A value is trying to be set on a copy of a slice from a DataFrame\n",
      "\n",
      "See the caveats in the documentation: https://pandas.pydata.org/pandas-docs/stable/user_guide/indexing.html#returning-a-view-versus-a-copy\n",
      "  df['true_value'][i] = 1\n",
      "<ipython-input-20-8e714f51eadc>:9: SettingWithCopyWarning: \n",
      "A value is trying to be set on a copy of a slice from a DataFrame\n",
      "\n",
      "See the caveats in the documentation: https://pandas.pydata.org/pandas-docs/stable/user_guide/indexing.html#returning-a-view-versus-a-copy\n",
      "  df['true_value'][i] = -1\n"
     ]
    }
   ],
   "source": [
    "# new column for the true values, if next day's opening price\n",
    "# is higher than today's price, display 1; if lower display -1\n",
    "# 1 = buy, -1 = sell\n",
    "df['true_value'] = 0\n",
    "for i in range(df.shape[0] - 1): \n",
    "  if df['Close'][i] < df['Close'][i+1]: \n",
    "    df['true_value'][i] = 1\n",
    "  if df['Close'][i] > df['Close'][i+1]: \n",
    "    df['true_value'][i] = -1"
   ]
  },
  {
   "cell_type": "code",
   "execution_count": 21,
   "metadata": {},
   "outputs": [
    {
     "data": {
      "text/plain": [
       "2743.149902"
      ]
     },
     "execution_count": 21,
     "metadata": {},
     "output_type": "execute_result"
    }
   ],
   "source": [
    "df['Close'][3]"
   ]
  },
  {
   "cell_type": "code",
   "execution_count": 22,
   "metadata": {},
   "outputs": [],
   "source": [
    "from sklearn.preprocessing import StandardScaler\n",
    "\n",
    "#normalize data using sklearn\n",
    "normalizer = StandardScaler()\n",
    "normalizer\n",
    "df_dropped = df.drop('Date', axis = 1)\n",
    "normalized_df = pd.DataFrame(normalizer.fit_transform(df_dropped), columns = df_dropped.columns)\n",
    "normalized_df.insert(loc = 0, column = 'Date', value = df['Date'])"
   ]
  },
  {
   "cell_type": "code",
   "execution_count": 23,
   "metadata": {},
   "outputs": [
    {
     "data": {
      "text/html": [
       "<div>\n",
       "<style scoped>\n",
       "    .dataframe tbody tr th:only-of-type {\n",
       "        vertical-align: middle;\n",
       "    }\n",
       "\n",
       "    .dataframe tbody tr th {\n",
       "        vertical-align: top;\n",
       "    }\n",
       "\n",
       "    .dataframe thead th {\n",
       "        text-align: right;\n",
       "    }\n",
       "</style>\n",
       "<table border=\"1\" class=\"dataframe\">\n",
       "  <thead>\n",
       "    <tr style=\"text-align: right;\">\n",
       "      <th></th>\n",
       "      <th>Date</th>\n",
       "      <th>index</th>\n",
       "      <th>Open</th>\n",
       "      <th>High</th>\n",
       "      <th>Low</th>\n",
       "      <th>Close</th>\n",
       "      <th>Volume</th>\n",
       "      <th>up/down</th>\n",
       "      <th>true_value</th>\n",
       "    </tr>\n",
       "  </thead>\n",
       "  <tbody>\n",
       "    <tr>\n",
       "      <th>0</th>\n",
       "      <td>2018-01-02</td>\n",
       "      <td>-1.725164</td>\n",
       "      <td>-0.648749</td>\n",
       "      <td>-0.717987</td>\n",
       "      <td>-0.450101</td>\n",
       "      <td>-0.502990</td>\n",
       "      <td>-0.356569</td>\n",
       "      <td>0.996024</td>\n",
       "      <td>0.955190</td>\n",
       "    </tr>\n",
       "    <tr>\n",
       "      <th>1</th>\n",
       "      <td>2018-01-03</td>\n",
       "      <td>-1.711363</td>\n",
       "      <td>-0.506020</td>\n",
       "      <td>-0.519223</td>\n",
       "      <td>-0.305372</td>\n",
       "      <td>-0.330849</td>\n",
       "      <td>-0.107277</td>\n",
       "      <td>0.996024</td>\n",
       "      <td>0.955190</td>\n",
       "    </tr>\n",
       "    <tr>\n",
       "      <th>2</th>\n",
       "      <td>2018-01-04</td>\n",
       "      <td>-1.697561</td>\n",
       "      <td>-0.289100</td>\n",
       "      <td>-0.358751</td>\n",
       "      <td>-0.105322</td>\n",
       "      <td>-0.221778</td>\n",
       "      <td>0.120476</td>\n",
       "      <td>0.996024</td>\n",
       "      <td>0.955190</td>\n",
       "    </tr>\n",
       "    <tr>\n",
       "      <th>3</th>\n",
       "      <td>2018-01-05</td>\n",
       "      <td>-1.683760</td>\n",
       "      <td>-0.167600</td>\n",
       "      <td>-0.206454</td>\n",
       "      <td>-0.022204</td>\n",
       "      <td>-0.030579</td>\n",
       "      <td>-0.546551</td>\n",
       "      <td>0.996024</td>\n",
       "      <td>0.955190</td>\n",
       "    </tr>\n",
       "    <tr>\n",
       "      <th>4</th>\n",
       "      <td>2018-01-08</td>\n",
       "      <td>-1.669959</td>\n",
       "      <td>-0.052975</td>\n",
       "      <td>-0.152031</td>\n",
       "      <td>0.068712</td>\n",
       "      <td>0.014927</td>\n",
       "      <td>-0.537782</td>\n",
       "      <td>0.996024</td>\n",
       "      <td>0.955190</td>\n",
       "    </tr>\n",
       "    <tr>\n",
       "      <th>...</th>\n",
       "      <td>...</td>\n",
       "      <td>...</td>\n",
       "      <td>...</td>\n",
       "      <td>...</td>\n",
       "      <td>...</td>\n",
       "      <td>...</td>\n",
       "      <td>...</td>\n",
       "      <td>...</td>\n",
       "      <td>...</td>\n",
       "    </tr>\n",
       "    <tr>\n",
       "      <th>246</th>\n",
       "      <td>2018-12-24</td>\n",
       "      <td>1.669959</td>\n",
       "      <td>-3.511073</td>\n",
       "      <td>-3.789219</td>\n",
       "      <td>-3.561289</td>\n",
       "      <td>-3.942897</td>\n",
       "      <td>-1.452166</td>\n",
       "      <td>-1.003992</td>\n",
       "      <td>0.955190</td>\n",
       "    </tr>\n",
       "    <tr>\n",
       "      <th>247</th>\n",
       "      <td>2018-12-26</td>\n",
       "      <td>1.683760</td>\n",
       "      <td>-3.889522</td>\n",
       "      <td>-3.171639</td>\n",
       "      <td>-3.603741</td>\n",
       "      <td>-2.779331</td>\n",
       "      <td>0.903983</td>\n",
       "      <td>0.996024</td>\n",
       "      <td>0.955190</td>\n",
       "    </tr>\n",
       "    <tr>\n",
       "      <th>248</th>\n",
       "      <td>2018-12-27</td>\n",
       "      <td>1.697561</td>\n",
       "      <td>-3.087138</td>\n",
       "      <td>-2.942115</td>\n",
       "      <td>-3.121370</td>\n",
       "      <td>-2.568471</td>\n",
       "      <td>0.704183</td>\n",
       "      <td>0.996024</td>\n",
       "      <td>-1.051109</td>\n",
       "    </tr>\n",
       "    <tr>\n",
       "      <th>249</th>\n",
       "      <td>2018-12-28</td>\n",
       "      <td>1.711363</td>\n",
       "      <td>-2.518352</td>\n",
       "      <td>-2.606867</td>\n",
       "      <td>-2.417442</td>\n",
       "      <td>-2.599307</td>\n",
       "      <td>0.131180</td>\n",
       "      <td>-1.003992</td>\n",
       "      <td>0.955190</td>\n",
       "    </tr>\n",
       "    <tr>\n",
       "      <th>250</th>\n",
       "      <td>2018-12-31</td>\n",
       "      <td>1.725164</td>\n",
       "      <td>-2.516634</td>\n",
       "      <td>-2.725500</td>\n",
       "      <td>-2.324178</td>\n",
       "      <td>-2.388646</td>\n",
       "      <td>-0.246590</td>\n",
       "      <td>0.996024</td>\n",
       "      <td>-0.047959</td>\n",
       "    </tr>\n",
       "  </tbody>\n",
       "</table>\n",
       "<p>251 rows × 9 columns</p>\n",
       "</div>"
      ],
      "text/plain": [
       "           Date     index      Open      High       Low     Close    Volume  \\\n",
       "0    2018-01-02 -1.725164 -0.648749 -0.717987 -0.450101 -0.502990 -0.356569   \n",
       "1    2018-01-03 -1.711363 -0.506020 -0.519223 -0.305372 -0.330849 -0.107277   \n",
       "2    2018-01-04 -1.697561 -0.289100 -0.358751 -0.105322 -0.221778  0.120476   \n",
       "3    2018-01-05 -1.683760 -0.167600 -0.206454 -0.022204 -0.030579 -0.546551   \n",
       "4    2018-01-08 -1.669959 -0.052975 -0.152031  0.068712  0.014927 -0.537782   \n",
       "..          ...       ...       ...       ...       ...       ...       ...   \n",
       "246  2018-12-24  1.669959 -3.511073 -3.789219 -3.561289 -3.942897 -1.452166   \n",
       "247  2018-12-26  1.683760 -3.889522 -3.171639 -3.603741 -2.779331  0.903983   \n",
       "248  2018-12-27  1.697561 -3.087138 -2.942115 -3.121370 -2.568471  0.704183   \n",
       "249  2018-12-28  1.711363 -2.518352 -2.606867 -2.417442 -2.599307  0.131180   \n",
       "250  2018-12-31  1.725164 -2.516634 -2.725500 -2.324178 -2.388646 -0.246590   \n",
       "\n",
       "      up/down  true_value  \n",
       "0    0.996024    0.955190  \n",
       "1    0.996024    0.955190  \n",
       "2    0.996024    0.955190  \n",
       "3    0.996024    0.955190  \n",
       "4    0.996024    0.955190  \n",
       "..        ...         ...  \n",
       "246 -1.003992    0.955190  \n",
       "247  0.996024    0.955190  \n",
       "248  0.996024   -1.051109  \n",
       "249 -1.003992    0.955190  \n",
       "250  0.996024   -0.047959  \n",
       "\n",
       "[251 rows x 9 columns]"
      ]
     },
     "execution_count": 23,
     "metadata": {},
     "output_type": "execute_result"
    }
   ],
   "source": [
    "normalized_df"
   ]
  },
  {
   "cell_type": "code",
   "execution_count": 24,
   "metadata": {},
   "outputs": [],
   "source": [
    "# save file as csv\n",
    "normalized_df.to_csv('SP500_processed.csv')"
   ]
  }
 ],
 "metadata": {
  "interpreter": {
   "hash": "e653ff840deecd3c07ae906875936901c5b604b957be1bd948fb5fca6b97e28f"
  },
  "kernelspec": {
   "display_name": "Python 3.8.5 64-bit",
   "language": "python",
   "name": "python3"
  },
  "language_info": {
   "codemirror_mode": {
    "name": "ipython",
    "version": 3
   },
   "file_extension": ".py",
   "mimetype": "text/x-python",
   "name": "python",
   "nbconvert_exporter": "python",
   "pygments_lexer": "ipython3",
   "version": "3.8.5"
  },
  "orig_nbformat": 4
 },
 "nbformat": 4,
 "nbformat_minor": 2
}
